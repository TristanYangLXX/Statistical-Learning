{
 "cells": [
  {
   "cell_type": "code",
   "execution_count": 121,
   "metadata": {},
   "outputs": [],
   "source": [
    "import numpy as np"
   ]
  },
  {
   "cell_type": "code",
   "execution_count": 122,
   "metadata": {},
   "outputs": [
    {
     "data": {
      "text/plain": [
       "np.float64(158914.684)"
      ]
     },
     "execution_count": 122,
     "metadata": {},
     "output_type": "execute_result"
    }
   ],
   "source": [
    "y = np.array([-41.7, 205.7, -122.6, -20.7, 178.2, 204.4, -2.3, 49.1, -151.7, -74.])\n",
    "y_mean = y.mean()\n",
    "SST = np.sum((y- y_mean)**2)\n",
    "SST\n"
   ]
  },
  {
   "cell_type": "code",
   "execution_count": 123,
   "metadata": {},
   "outputs": [],
   "source": [
    "X = np.array([[5.04, 4.7, 5.95, 3.82],\n",
    "              [6.13, 5.89, 4.16, 7.3],\n",
    "              [3.04, 5.13, 6.34, 3.72],\n",
    "              [6.0, 4.48, 3.24, 5.19],\n",
    "              [4.54, 7.1, 4.71, 6.33],\n",
    "              [5.79, 6.02, 5.91, 6.33],\n",
    "              [5.26, 5.3, 5.49, 3.65],\n",
    "              [6.93, 3.6, 4.32, 6.46],\n",
    "              [4.63, 3.44, 3.77, 5.59],\n",
    "              [3.09, 5.62, 4.39, 5.27]])"
   ]
  },
  {
   "cell_type": "code",
   "execution_count": 124,
   "metadata": {},
   "outputs": [
    {
     "data": {
      "text/plain": [
       "array([4.7 , 5.89, 5.13, 4.48, 7.1 , 6.02, 5.3 , 3.6 , 3.44, 5.62])"
      ]
     },
     "execution_count": 124,
     "metadata": {},
     "output_type": "execute_result"
    }
   ],
   "source": [
    "x1 = X[:,1]\n",
    "x1\n"
   ]
  },
  {
   "cell_type": "code",
   "execution_count": 125,
   "metadata": {},
   "outputs": [
    {
     "name": "stdout",
     "output_type": "stream",
     "text": [
      "[ -41.7  -20.7   49.1 -151.7]\n"
     ]
    }
   ],
   "source": [
    "print(y[x1<=4.9])"
   ]
  },
  {
   "cell_type": "code",
   "execution_count": 126,
   "metadata": {},
   "outputs": [
    {
     "data": {
      "text/plain": [
       "np.float64(131871.90999999997)"
      ]
     },
     "execution_count": 126,
     "metadata": {},
     "output_type": "execute_result"
    }
   ],
   "source": [
    "group1_tree1 = y[x1<=4.9]\n",
    "group2_tree1 = y[x1>4.9]\n",
    "mean_group1_tree1 = np.mean(group1_tree1)\n",
    "mean_group2_tree1 = np.mean(group2_tree1)\n",
    "Tree_One_SSE = np.sum((group1_tree1 - mean_group1_tree1)**2)+np.sum((group2_tree1 - mean_group2_tree1)**2)\n",
    "Tree_One_SSE \n"
   ]
  },
  {
   "cell_type": "code",
   "execution_count": 127,
   "metadata": {},
   "outputs": [
    {
     "data": {
      "text/plain": [
       "array([-122.6,  178.2, -151.7,  -74. ])"
      ]
     },
     "execution_count": 127,
     "metadata": {},
     "output_type": "execute_result"
    }
   ],
   "source": [
    "import numpy as np\n",
    "\n",
    "# Data from the table\n",
    "X = np.array([[5.04, 4.7, 5.95, 3.82],\n",
    "              [6.13, 5.89, 4.16, 7.3],\n",
    "              [3.04, 5.13, 6.34, 3.72],\n",
    "              [6.0, 4.48, 3.24, 5.19],\n",
    "              [4.54, 7.1, 4.71, 6.33],\n",
    "              [5.79, 6.02, 5.91, 6.33],\n",
    "              [5.26, 5.3, 5.49, 3.65],\n",
    "              [6.93, 3.6, 4.32, 6.46],\n",
    "              [4.63, 3.44, 3.77, 5.59],\n",
    "              [3.09, 5.62, 4.39, 5.27]])\n",
    "\n",
    "y = np.array([-41.7, 205.7, -122.6, -20.7, 178.2, 204.4, -2.3, 49.1, -151.7, -74])\n",
    "\n",
    "# Calculate SST\n",
    "y_mean = np.mean(y)\n",
    "SST = np.sum((y - y_mean) ** 2)\n",
    "\n",
    "# Tree One: split on x1 <= 4.9\n",
    "x1 = X[:, 0]\n",
    "group1_tree1 = y[x1 <= 4.9]\n",
    "group2_tree1 = y[x1 > 4.9]\n",
    "mean_group1_tree1 = np.mean(group1_tree1)\n",
    "mean_group2_tree1 = np.mean(group2_tree1)\n",
    "SSE_tree1 = np.sum((group1_tree1 - mean_group1_tree1) ** 2) + np.sum((group2_tree1 - mean_group2_tree1) ** 2)\n",
    "SSE_tree1\n",
    "\n",
    "group1_tree1"
   ]
  },
  {
   "cell_type": "markdown",
   "metadata": {},
   "source": []
  },
  {
   "cell_type": "code",
   "execution_count": 128,
   "metadata": {},
   "outputs": [
    {
     "data": {
      "text/plain": [
       "np.float64(83817.09583333333)"
      ]
     },
     "execution_count": 128,
     "metadata": {},
     "output_type": "execute_result"
    }
   ],
   "source": [
    "#Tree Two: split on x2 <= 5.3\n",
    "\n",
    "x2 = X[:, 1]\n",
    "group1_tree2 = y[x2 <=5.3]\n",
    "group2_tree2 = y[x2 >5.3]\n",
    "mean_group1_tree2 = y[x2<=5.3].mean()\n",
    "mean_group2_tree2 = y[x2>5.3].mean()\n",
    "SSE_tree2_group1 = np.sum((group1_tree2 - mean_group1_tree2 )**2)\n",
    "SSE_tree2_group2 = np.sum((group2_tree2 - mean_group2_tree2 )**2)\n",
    "SSE_tree2_group1 + SSE_tree2_group2\n",
    "\n"
   ]
  },
  {
   "cell_type": "code",
   "execution_count": 129,
   "metadata": {},
   "outputs": [
    {
     "name": "stdout",
     "output_type": "stream",
     "text": [
      "[0.66666667 0.08333333 0.25      ]\n"
     ]
    }
   ],
   "source": [
    "import numpy as np\n",
    "x = np.array([0.5, 1.3, 1.5, 2.7, 3.1, 3.3, 3.9, 6., 6.8, 7.3, 7.4, 9.9])\n",
    "y = np.array([2, 1, 0, 2, 2, 0, 0, 0, 0, 0, 0, 0])\n",
    "def get_proportions(y):\n",
    "    counts = np.array([np.sum(y == i) for i in np.unique(y)])\n",
    "    return counts / len(y)\n",
    "array_gini = get_proportions(y)\n",
    "print(array_gini)"
   ]
  },
  {
   "cell_type": "code",
   "execution_count": 130,
   "metadata": {},
   "outputs": [
    {
     "data": {
      "text/plain": [
       "np.float64(1.188721875540867)"
      ]
     },
     "execution_count": 130,
     "metadata": {},
     "output_type": "execute_result"
    }
   ],
   "source": [
    "logs = np.log2(array_gini)\n",
    "\n",
    "entropy = - np.sum(array_gini * logs)\n",
    "entropy\n"
   ]
  },
  {
   "cell_type": "code",
   "execution_count": 131,
   "metadata": {},
   "outputs": [
    {
     "data": {
      "text/plain": [
       "array([2, 1, 0, 2, 2, 0, 0, 0])"
      ]
     },
     "execution_count": 131,
     "metadata": {},
     "output_type": "execute_result"
    }
   ],
   "source": [
    "condition = x <= 6.4\n",
    "\n",
    "x_left = x[condition]\n",
    "y_left = y[condition]\n",
    "y_left\n"
   ]
  },
  {
   "cell_type": "code",
   "execution_count": 132,
   "metadata": {},
   "outputs": [
    {
     "name": "stdout",
     "output_type": "stream",
     "text": [
      "[0.5   0.125 0.375]\n"
     ]
    },
    {
     "data": {
      "text/plain": [
       "np.float64(1.4056390622295665)"
      ]
     },
     "execution_count": 132,
     "metadata": {},
     "output_type": "execute_result"
    }
   ],
   "source": [
    "def get_proportions(y_left):\n",
    "    counts = np.array([np.sum(y_left == i) for i in np.unique(y)])\n",
    "    return counts / len(y_left)\n",
    "array_gini_left = get_proportions(y_left)\n",
    "print(array_gini_left)\n",
    "\n",
    "logs_left = np.log2(array_gini_left)\n",
    "\n",
    "entropy_left = - np.sum(array_gini_left * logs_left)\n",
    "entropy_left\n"
   ]
  },
  {
   "cell_type": "code",
   "execution_count": 133,
   "metadata": {},
   "outputs": [
    {
     "data": {
      "text/plain": [
       "array([0, 0, 0, 0])"
      ]
     },
     "execution_count": 133,
     "metadata": {},
     "output_type": "execute_result"
    }
   ],
   "source": [
    "x_right = x[~condition]\n",
    "y_right = y[~condition]\n",
    "y_right\n"
   ]
  },
  {
   "cell_type": "code",
   "execution_count": 134,
   "metadata": {},
   "outputs": [
    {
     "name": "stdout",
     "output_type": "stream",
     "text": [
      "[1. 0. 0.]\n"
     ]
    },
    {
     "name": "stderr",
     "output_type": "stream",
     "text": [
      "/var/folders/x_/71wrj7jx5474n6st5fwkvj7r0000gn/T/ipykernel_37458/252855636.py:7: RuntimeWarning: divide by zero encountered in log2\n",
      "  logs_right = np.log2(array_gini_right)\n",
      "/var/folders/x_/71wrj7jx5474n6st5fwkvj7r0000gn/T/ipykernel_37458/252855636.py:9: RuntimeWarning: invalid value encountered in multiply\n",
      "  entropy_right = - np.sum(array_gini_right * logs_right)\n"
     ]
    },
    {
     "data": {
      "text/plain": [
       "np.float64(nan)"
      ]
     },
     "execution_count": 134,
     "metadata": {},
     "output_type": "execute_result"
    }
   ],
   "source": [
    "def get_proportions(y_right):\n",
    "    counts = np.array([np.sum(y_right == i) for i in np.unique(y)])\n",
    "    return counts / len(y_right)\n",
    "array_gini_right = get_proportions(y_right)\n",
    "print(array_gini_right)\n",
    "\n",
    "logs_right = np.log2(array_gini_right)\n",
    "\n",
    "entropy_right = - np.sum(array_gini_right * logs_right)\n",
    "entropy_right\n"
   ]
  },
  {
   "cell_type": "markdown",
   "metadata": {},
   "source": []
  },
  {
   "cell_type": "code",
   "execution_count": 136,
   "metadata": {},
   "outputs": [
    {
     "data": {
      "text/plain": [
       "np.float64(0.9370927081530444)"
      ]
     },
     "execution_count": 136,
     "metadata": {},
     "output_type": "execute_result"
    }
   ],
   "source": [
    "tree_entropy = entropy_left * len(y_left)/len(y)\n",
    "\n",
    "tree_entropy"
   ]
  }
 ],
 "metadata": {
  "kernelspec": {
   "display_name": "Python 3",
   "language": "python",
   "name": "python3"
  },
  "language_info": {
   "codemirror_mode": {
    "name": "ipython",
    "version": 3
   },
   "file_extension": ".py",
   "mimetype": "text/x-python",
   "name": "python",
   "nbconvert_exporter": "python",
   "pygments_lexer": "ipython3",
   "version": "3.12.5"
  }
 },
 "nbformat": 4,
 "nbformat_minor": 2
}
