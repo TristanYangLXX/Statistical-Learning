{
 "cells": [
  {
   "cell_type": "markdown",
   "metadata": {},
   "source": [
    "# Lab 02: Credit Ratings"
   ]
  },
  {
   "cell_type": "markdown",
   "metadata": {},
   "source": [
    "---\n",
    "author: Your Name Here\n",
    "date: September 13, 2024\n",
    "embed-resources: true\n",
    "---"
   ]
  },
  {
   "cell_type": "markdown",
   "metadata": {},
   "source": [
    "## Introduction"
   ]
  },
  {
   "cell_type": "markdown",
   "metadata": {},
   "source": [
    "For Lab 02 in CS 307, we will develop a machine learning model to predict individual consumer credit ratings based on demographic and financial features such as income, age, and education. The objective is to create a regression model that could potentially allow a bank to assess customer creditworthiness without relying on costly third-party credit agencies. Using historical credit data, our goal is to build a model that generalizes well to unseen data and meets the performance requirements of the autograder. By evaluating the model's predictive accuracy and considering the ethical and practical implications, we aim to determine whether this approach is viable for real-world application.\n",
    "\n",
    "Throughout this lab, we will leverage cross-validation, pipelines, and grid search to optimize the model, while adhering to scikit-learn’s best practices. We will assess model performance using Root Mean Square Error (RMSE) and discuss the suitability of the chosen features in predicting credit ratings."
   ]
  },
  {
   "cell_type": "markdown",
   "metadata": {},
   "source": [
    "## Methods"
   ]
  },
  {
   "cell_type": "code",
   "execution_count": 7,
   "metadata": {},
   "outputs": [],
   "source": [
    "# imports\n",
    "import pandas as pd\n",
    "import numpy as np\n",
    "from sklearn.model_selection import train_test_split\n",
    "from sklearn.linear_model import LinearRegression\n",
    "from sklearn.metrics import mean_squared_error\n",
    "from sklearn.datasets import make_blobs\n",
    "from sklearn.model_selection import train_test_split\n",
    "from sklearn.model_selection import GridSearchCV, cross_val_score\n",
    "from sklearn.neighbors import KNeighborsClassifier\n",
    "from sklearn.metrics import r2_score\n",
    "from sklearn.metrics import mean_absolute_error\n",
    "from sklearn.metrics import accuracy_score\n",
    "from sklearn.metrics import mean_squared_error\n",
    "from sklearn.pipeline import Pipeline\n",
    "from sklearn.impute import SimpleImputer\n",
    "from sklearn.preprocessing import OneHotEncoder\n",
    "from sklearn.compose import ColumnTransformer\n",
    "from sklearn.neighbors import KNeighborsRegressor\n",
    "from sklearn.model_selection import cross_val_score\n",
    "from sklearn.metrics import mean_squared_error\n",
    "import matplotlib.pyplot as plt\n",
    "import seaborn as sns\n",
    "from joblib import dump, load\n",
    "from datetime import datetime\n",
    "from joblib import dump"
   ]
  },
  {
   "cell_type": "markdown",
   "metadata": {},
   "source": [
    "### Data"
   ]
  },
  {
   "cell_type": "code",
   "execution_count": 8,
   "metadata": {},
   "outputs": [],
   "source": [
    "# load data\n",
    "credit_train = pd.read_csv(\"https://cs307.org/lab-02/data/credit-train.csv\")\n",
    "credit_test = pd.read_csv(\"https://cs307.org/lab-02/data/credit-test.csv\")"
   ]
  },
  {
   "cell_type": "code",
   "execution_count": 9,
   "metadata": {},
   "outputs": [],
   "source": [
    "# process data for ML\n",
    "\n",
    "# create X and y for train\n",
    "X_train = credit_train.drop(\"Rating\", axis=1)\n",
    "y_train = credit_train[\"Rating\"]\n",
    "\n",
    "# create X and y for test\n",
    "X_test = credit_test.drop(\"Rating\", axis=1)\n",
    "y_test = credit_test[\"Rating\"]"
   ]
  },
  {
   "cell_type": "code",
   "execution_count": 10,
   "metadata": {},
   "outputs": [
    {
     "data": {
      "text/html": [
       "<div>\n",
       "<style scoped>\n",
       "    .dataframe tbody tr th:only-of-type {\n",
       "        vertical-align: middle;\n",
       "    }\n",
       "\n",
       "    .dataframe tbody tr th {\n",
       "        vertical-align: top;\n",
       "    }\n",
       "\n",
       "    .dataframe thead th {\n",
       "        text-align: right;\n",
       "    }\n",
       "</style>\n",
       "<table border=\"1\" class=\"dataframe\">\n",
       "  <thead>\n",
       "    <tr style=\"text-align: right;\">\n",
       "      <th></th>\n",
       "      <th>Rating</th>\n",
       "      <th>Income</th>\n",
       "      <th>Age</th>\n",
       "      <th>Education</th>\n",
       "      <th>Gender</th>\n",
       "      <th>Student</th>\n",
       "      <th>Married</th>\n",
       "      <th>Ethnicity</th>\n",
       "    </tr>\n",
       "  </thead>\n",
       "  <tbody>\n",
       "    <tr>\n",
       "      <th>0</th>\n",
       "      <td>257.0</td>\n",
       "      <td>44.473</td>\n",
       "      <td>81.0</td>\n",
       "      <td>16.0</td>\n",
       "      <td>Female</td>\n",
       "      <td>No</td>\n",
       "      <td>No</td>\n",
       "      <td>NaN</td>\n",
       "    </tr>\n",
       "    <tr>\n",
       "      <th>1</th>\n",
       "      <td>353.0</td>\n",
       "      <td>41.532</td>\n",
       "      <td>50.0</td>\n",
       "      <td>NaN</td>\n",
       "      <td>Male</td>\n",
       "      <td>No</td>\n",
       "      <td>Yes</td>\n",
       "      <td>Caucasian</td>\n",
       "    </tr>\n",
       "    <tr>\n",
       "      <th>2</th>\n",
       "      <td>388.0</td>\n",
       "      <td>16.479</td>\n",
       "      <td>26.0</td>\n",
       "      <td>16.0</td>\n",
       "      <td>Male</td>\n",
       "      <td>NaN</td>\n",
       "      <td>No</td>\n",
       "      <td>NaN</td>\n",
       "    </tr>\n",
       "    <tr>\n",
       "      <th>3</th>\n",
       "      <td>321.0</td>\n",
       "      <td>10.793</td>\n",
       "      <td>29.0</td>\n",
       "      <td>13.0</td>\n",
       "      <td>Male</td>\n",
       "      <td>No</td>\n",
       "      <td>No</td>\n",
       "      <td>Caucasian</td>\n",
       "    </tr>\n",
       "    <tr>\n",
       "      <th>4</th>\n",
       "      <td>367.0</td>\n",
       "      <td>76.273</td>\n",
       "      <td>65.0</td>\n",
       "      <td>14.0</td>\n",
       "      <td>Female</td>\n",
       "      <td>No</td>\n",
       "      <td>Yes</td>\n",
       "      <td>Caucasian</td>\n",
       "    </tr>\n",
       "    <tr>\n",
       "      <th>...</th>\n",
       "      <td>...</td>\n",
       "      <td>...</td>\n",
       "      <td>...</td>\n",
       "      <td>...</td>\n",
       "      <td>...</td>\n",
       "      <td>...</td>\n",
       "      <td>...</td>\n",
       "      <td>...</td>\n",
       "    </tr>\n",
       "    <tr>\n",
       "      <th>251</th>\n",
       "      <td>268.0</td>\n",
       "      <td>26.370</td>\n",
       "      <td>78.0</td>\n",
       "      <td>11.0</td>\n",
       "      <td>Male</td>\n",
       "      <td>No</td>\n",
       "      <td>Yes</td>\n",
       "      <td>Asian</td>\n",
       "    </tr>\n",
       "    <tr>\n",
       "      <th>252</th>\n",
       "      <td>433.0</td>\n",
       "      <td>26.427</td>\n",
       "      <td>50.0</td>\n",
       "      <td>15.0</td>\n",
       "      <td>Female</td>\n",
       "      <td>Yes</td>\n",
       "      <td>Yes</td>\n",
       "      <td>Asian</td>\n",
       "    </tr>\n",
       "    <tr>\n",
       "      <th>253</th>\n",
       "      <td>259.0</td>\n",
       "      <td>12.031</td>\n",
       "      <td>58.0</td>\n",
       "      <td>18.0</td>\n",
       "      <td>Female</td>\n",
       "      <td>NaN</td>\n",
       "      <td>Yes</td>\n",
       "      <td>Caucasian</td>\n",
       "    </tr>\n",
       "    <tr>\n",
       "      <th>254</th>\n",
       "      <td>335.0</td>\n",
       "      <td>80.861</td>\n",
       "      <td>29.0</td>\n",
       "      <td>15.0</td>\n",
       "      <td>Female</td>\n",
       "      <td>No</td>\n",
       "      <td>Yes</td>\n",
       "      <td>Asian</td>\n",
       "    </tr>\n",
       "    <tr>\n",
       "      <th>255</th>\n",
       "      <td>93.0</td>\n",
       "      <td>15.717</td>\n",
       "      <td>38.0</td>\n",
       "      <td>16.0</td>\n",
       "      <td>Male</td>\n",
       "      <td>Yes</td>\n",
       "      <td>Yes</td>\n",
       "      <td>Caucasian</td>\n",
       "    </tr>\n",
       "  </tbody>\n",
       "</table>\n",
       "<p>256 rows × 8 columns</p>\n",
       "</div>"
      ],
      "text/plain": [
       "     Rating  Income   Age  Education  Gender Student Married  Ethnicity\n",
       "0     257.0  44.473  81.0       16.0  Female      No      No        NaN\n",
       "1     353.0  41.532  50.0        NaN    Male      No     Yes  Caucasian\n",
       "2     388.0  16.479  26.0       16.0    Male     NaN      No        NaN\n",
       "3     321.0  10.793  29.0       13.0    Male      No      No  Caucasian\n",
       "4     367.0  76.273  65.0       14.0  Female      No     Yes  Caucasian\n",
       "..      ...     ...   ...        ...     ...     ...     ...        ...\n",
       "251   268.0  26.370  78.0       11.0    Male      No     Yes      Asian\n",
       "252   433.0  26.427  50.0       15.0  Female     Yes     Yes      Asian\n",
       "253   259.0  12.031  58.0       18.0  Female     NaN     Yes  Caucasian\n",
       "254   335.0  80.861  29.0       15.0  Female      No     Yes      Asian\n",
       "255    93.0  15.717  38.0       16.0    Male     Yes     Yes  Caucasian\n",
       "\n",
       "[256 rows x 8 columns]"
      ]
     },
     "execution_count": 10,
     "metadata": {},
     "output_type": "execute_result"
    }
   ],
   "source": [
    "credit_train"
   ]
  },
  {
   "cell_type": "code",
   "execution_count": 11,
   "metadata": {},
   "outputs": [
    {
     "data": {
      "text/html": [
       "<div>\n",
       "<style scoped>\n",
       "    .dataframe tbody tr th:only-of-type {\n",
       "        vertical-align: middle;\n",
       "    }\n",
       "\n",
       "    .dataframe tbody tr th {\n",
       "        vertical-align: top;\n",
       "    }\n",
       "\n",
       "    .dataframe thead th {\n",
       "        text-align: right;\n",
       "    }\n",
       "</style>\n",
       "<table border=\"1\" class=\"dataframe\">\n",
       "  <thead>\n",
       "    <tr style=\"text-align: right;\">\n",
       "      <th></th>\n",
       "      <th>Rating</th>\n",
       "      <th>Income</th>\n",
       "      <th>Age</th>\n",
       "      <th>Education</th>\n",
       "      <th>Gender</th>\n",
       "      <th>Student</th>\n",
       "      <th>Married</th>\n",
       "      <th>Ethnicity</th>\n",
       "    </tr>\n",
       "  </thead>\n",
       "  <tbody>\n",
       "    <tr>\n",
       "      <th>0</th>\n",
       "      <td>527.0</td>\n",
       "      <td>94.193</td>\n",
       "      <td>44.0</td>\n",
       "      <td>16.0</td>\n",
       "      <td>NaN</td>\n",
       "      <td>No</td>\n",
       "      <td>Yes</td>\n",
       "      <td>Caucasian</td>\n",
       "    </tr>\n",
       "    <tr>\n",
       "      <th>1</th>\n",
       "      <td>347.0</td>\n",
       "      <td>44.978</td>\n",
       "      <td>30.0</td>\n",
       "      <td>10.0</td>\n",
       "      <td>Female</td>\n",
       "      <td>No</td>\n",
       "      <td>NaN</td>\n",
       "      <td>Caucasian</td>\n",
       "    </tr>\n",
       "    <tr>\n",
       "      <th>2</th>\n",
       "      <td>203.0</td>\n",
       "      <td>13.676</td>\n",
       "      <td>80.0</td>\n",
       "      <td>16.0</td>\n",
       "      <td>Female</td>\n",
       "      <td>No</td>\n",
       "      <td>No</td>\n",
       "      <td>African American</td>\n",
       "    </tr>\n",
       "    <tr>\n",
       "      <th>3</th>\n",
       "      <td>205.0</td>\n",
       "      <td>44.522</td>\n",
       "      <td>72.0</td>\n",
       "      <td>15.0</td>\n",
       "      <td>Male</td>\n",
       "      <td>No</td>\n",
       "      <td>Yes</td>\n",
       "      <td>Asian</td>\n",
       "    </tr>\n",
       "    <tr>\n",
       "      <th>4</th>\n",
       "      <td>291.0</td>\n",
       "      <td>12.581</td>\n",
       "      <td>48.0</td>\n",
       "      <td>16.0</td>\n",
       "      <td>NaN</td>\n",
       "      <td>NaN</td>\n",
       "      <td>Yes</td>\n",
       "      <td>Caucasian</td>\n",
       "    </tr>\n",
       "    <tr>\n",
       "      <th>...</th>\n",
       "      <td>...</td>\n",
       "      <td>...</td>\n",
       "      <td>...</td>\n",
       "      <td>...</td>\n",
       "      <td>...</td>\n",
       "      <td>...</td>\n",
       "      <td>...</td>\n",
       "      <td>...</td>\n",
       "    </tr>\n",
       "    <tr>\n",
       "      <th>59</th>\n",
       "      <td>129.0</td>\n",
       "      <td>18.951</td>\n",
       "      <td>82.0</td>\n",
       "      <td>13.0</td>\n",
       "      <td>Female</td>\n",
       "      <td>No</td>\n",
       "      <td>No</td>\n",
       "      <td>NaN</td>\n",
       "    </tr>\n",
       "    <tr>\n",
       "      <th>60</th>\n",
       "      <td>817.0</td>\n",
       "      <td>140.672</td>\n",
       "      <td>46.0</td>\n",
       "      <td>9.0</td>\n",
       "      <td>Male</td>\n",
       "      <td>No</td>\n",
       "      <td>Yes</td>\n",
       "      <td>African American</td>\n",
       "    </tr>\n",
       "    <tr>\n",
       "      <th>61</th>\n",
       "      <td>387.0</td>\n",
       "      <td>19.636</td>\n",
       "      <td>64.0</td>\n",
       "      <td>10.0</td>\n",
       "      <td>Female</td>\n",
       "      <td>No</td>\n",
       "      <td>No</td>\n",
       "      <td>African American</td>\n",
       "    </tr>\n",
       "    <tr>\n",
       "      <th>62</th>\n",
       "      <td>410.0</td>\n",
       "      <td>49.794</td>\n",
       "      <td>40.0</td>\n",
       "      <td>8.0</td>\n",
       "      <td>Male</td>\n",
       "      <td>No</td>\n",
       "      <td>No</td>\n",
       "      <td>Caucasian</td>\n",
       "    </tr>\n",
       "    <tr>\n",
       "      <th>63</th>\n",
       "      <td>259.0</td>\n",
       "      <td>57.202</td>\n",
       "      <td>72.0</td>\n",
       "      <td>11.0</td>\n",
       "      <td>Female</td>\n",
       "      <td>No</td>\n",
       "      <td>No</td>\n",
       "      <td>Caucasian</td>\n",
       "    </tr>\n",
       "  </tbody>\n",
       "</table>\n",
       "<p>64 rows × 8 columns</p>\n",
       "</div>"
      ],
      "text/plain": [
       "    Rating   Income   Age  Education  Gender Student Married         Ethnicity\n",
       "0    527.0   94.193  44.0       16.0     NaN      No     Yes         Caucasian\n",
       "1    347.0   44.978  30.0       10.0  Female      No     NaN         Caucasian\n",
       "2    203.0   13.676  80.0       16.0  Female      No      No  African American\n",
       "3    205.0   44.522  72.0       15.0    Male      No     Yes             Asian\n",
       "4    291.0   12.581  48.0       16.0     NaN     NaN     Yes         Caucasian\n",
       "..     ...      ...   ...        ...     ...     ...     ...               ...\n",
       "59   129.0   18.951  82.0       13.0  Female      No      No               NaN\n",
       "60   817.0  140.672  46.0        9.0    Male      No     Yes  African American\n",
       "61   387.0   19.636  64.0       10.0  Female      No      No  African American\n",
       "62   410.0   49.794  40.0        8.0    Male      No      No         Caucasian\n",
       "63   259.0   57.202  72.0       11.0  Female      No      No         Caucasian\n",
       "\n",
       "[64 rows x 8 columns]"
      ]
     },
     "execution_count": 11,
     "metadata": {},
     "output_type": "execute_result"
    }
   ],
   "source": [
    "credit_test"
   ]
  },
  {
   "cell_type": "code",
   "execution_count": 12,
   "metadata": {},
   "outputs": [
    {
     "data": {
      "text/plain": [
       "0      257.0\n",
       "1      353.0\n",
       "2      388.0\n",
       "3      321.0\n",
       "4      367.0\n",
       "       ...  \n",
       "251    268.0\n",
       "252    433.0\n",
       "253    259.0\n",
       "254    335.0\n",
       "255     93.0\n",
       "Name: Rating, Length: 256, dtype: float64"
      ]
     },
     "execution_count": 12,
     "metadata": {},
     "output_type": "execute_result"
    }
   ],
   "source": [
    "y_train"
   ]
  },
  {
   "cell_type": "code",
   "execution_count": 13,
   "metadata": {},
   "outputs": [
    {
     "data": {
      "text/plain": [
       "0     527.0\n",
       "1     347.0\n",
       "2     203.0\n",
       "3     205.0\n",
       "4     291.0\n",
       "      ...  \n",
       "59    129.0\n",
       "60    817.0\n",
       "61    387.0\n",
       "62    410.0\n",
       "63    259.0\n",
       "Name: Rating, Length: 64, dtype: float64"
      ]
     },
     "execution_count": 13,
     "metadata": {},
     "output_type": "execute_result"
    }
   ],
   "source": [
    "y_test"
   ]
  },
  {
   "cell_type": "markdown",
   "metadata": {},
   "source": [
    "In this section, we calculate and display summary statistics for student status and marriage status. We also show correlation of age and income with ratings. These statistics help in understanding the dataset of credit prediction."
   ]
  },
  {
   "cell_type": "code",
   "execution_count": 14,
   "metadata": {},
   "outputs": [
    {
     "name": "stdout",
     "output_type": "stream",
     "text": [
      "347.609375\n",
      "148.8931046679028\n"
     ]
    }
   ],
   "source": [
    "# summary statistics\n",
    "\n",
    "# Calculate mean and standard deviation credit rating score\n",
    "mean_rating = y_train.mean()\n",
    "std_rating = y_train.std()\n",
    "print(mean_rating)\n",
    "print(std_rating)\n"
   ]
  },
  {
   "cell_type": "code",
   "execution_count": 15,
   "metadata": {},
   "outputs": [
    {
     "name": "stdout",
     "output_type": "stream",
     "text": [
      "  Student        mean         std  count\n",
      "0      No  349.511737  148.003525    213\n",
      "1     Yes  338.473684  149.164476     19\n"
     ]
    }
   ],
   "source": [
    "# Calculate mean and standard deviation based on student status\n",
    "student_stats = credit_train.groupby('Student')['Rating'].agg(['mean', 'std','count']).reset_index()\n",
    "print(student_stats)"
   ]
  },
  {
   "cell_type": "code",
   "execution_count": 16,
   "metadata": {},
   "outputs": [
    {
     "name": "stdout",
     "output_type": "stream",
     "text": [
      "  Married        mean         std  count\n",
      "0      No  329.397959  132.039649     98\n",
      "1     Yes  358.905063  157.797935    158\n"
     ]
    }
   ],
   "source": [
    "# Calculate mean and standard deviation based on marriage status\n",
    "marriage_stats = credit_train.groupby('Married')['Rating'].agg(['mean', 'std','count']).reset_index()\n",
    "print(marriage_stats)"
   ]
  },
  {
   "cell_type": "code",
   "execution_count": 17,
   "metadata": {},
   "outputs": [
    {
     "name": "stdout",
     "output_type": "stream",
     "text": [
      "\n",
      "Correlation with Rating:\n",
      "Rating    1.000000\n",
      "Age       0.143032\n",
      "Income    0.770842\n",
      "Name: Rating, dtype: float64\n"
     ]
    }
   ],
   "source": [
    "# Correlation of Age and Income with Rating\n",
    "correlations = credit_train[['Rating', 'Age', 'Income']].corr()\n",
    "\n",
    "print(\"\\nCorrelation with Rating:\")\n",
    "print(correlations['Rating'])"
   ]
  },
  {
   "cell_type": "code",
   "execution_count": 18,
   "metadata": {},
   "outputs": [
    {
     "name": "stdout",
     "output_type": "stream",
     "text": [
      "\n",
      "Missing Data (Proportion Missing):\n",
      "Rating       0.000000\n",
      "Income       0.000000\n",
      "Age          0.128906\n",
      "Education    0.097656\n",
      "Gender       0.023438\n",
      "Student      0.093750\n",
      "Married      0.000000\n",
      "Ethnicity    0.097656\n",
      "dtype: float64\n"
     ]
    }
   ],
   "source": [
    "# Proportion of missing values for each variable\n",
    "missing_data = credit_train.isnull().mean()\n",
    "\n",
    "print(\"\\nMissing Data (Proportion Missing):\")\n",
    "print(missing_data)"
   ]
  },
  {
   "cell_type": "code",
   "execution_count": 19,
   "metadata": {},
   "outputs": [
    {
     "data": {
      "image/png": "[encoded data removed]",
      "text/plain": [
       "<Figure size 867.847x400 with 2 Axes>"
      ]
     },
     "metadata": {},
     "output_type": "display_data"
    },
    {
     "name": "stderr",
     "output_type": "stream",
     "text": [
      "/var/folders/x_/71wrj7jx5474n6st5fwkvj7r0000gn/T/ipykernel_75858/2219617321.py:44: FutureWarning: \n",
      "\n",
      "Passing `palette` without assigning `hue` is deprecated and will be removed in v0.14.0. Assign the `x` variable to `hue` and set `legend=False` for the same effect.\n",
      "\n",
      "  sns.boxplot(x=credit_train['Gender'], y=credit_train['Rating'], palette=custom_palette)\n"
     ]
    },
    {
     "data": {
      "image/png": "[encoded data removed]",
      "text/plain": [
       "<Figure size 1000x600 with 1 Axes>"
      ]
     },
     "metadata": {},
     "output_type": "display_data"
    },
    {
     "name": "stderr",
     "output_type": "stream",
     "text": [
      "/var/folders/x_/71wrj7jx5474n6st5fwkvj7r0000gn/T/ipykernel_75858/2219617321.py:53: FutureWarning: \n",
      "\n",
      "Passing `palette` without assigning `hue` is deprecated and will be removed in v0.14.0. Assign the `x` variable to `hue` and set `legend=False` for the same effect.\n",
      "\n",
      "  sns.boxplot(x=credit_train['Student'], y=credit_train['Rating'], palette=custom_palette)\n"
     ]
    },
    {
     "data": {
      "image/png": "[encoded data removed]",
      "text/plain": [
       "<Figure size 1000x600 with 1 Axes>"
      ]
     },
     "metadata": {},
     "output_type": "display_data"
    }
   ],
   "source": [
    "# visualizations\n",
    "\n",
    "import pandas as pd\n",
    "import seaborn as sns\n",
    "import matplotlib.pyplot as plt\n",
    "import numpy as np\n",
    "\n",
    "# Load the data\n",
    "credit_train = pd.read_csv(\"https://cs307.org/lab-02/data/credit-train.csv\")\n",
    "\n",
    "# Custom color palette\n",
    "custom_palette = [\"#143294\", \"#FF5F05\"]\n",
    "sns.set_theme(style=\"whitegrid\")\n",
    "\n",
    "# Function to add jitter (optional for scatter plot)\n",
    "def add_jitter(data, jitter_amount=0.2):\n",
    "    return data + np.random.uniform(-jitter_amount, jitter_amount, size=data.shape)\n",
    "\n",
    "# Create a FacetGrid for scatter plot (Income vs Age)\n",
    "g = sns.FacetGrid(credit_train, col=\"Gender\", height=4, aspect=1, palette=custom_palette, legend_out=True)\n",
    "g.map_dataframe(sns.scatterplot, x=add_jitter(credit_train['Age']), y=\"Income\")\n",
    "\n",
    "# Add legend, axis labels, and titles\n",
    "g.add_legend(title=\"Gender\")\n",
    "g.set_axis_labels('Age', 'Income ($1000s)')\n",
    "g.set_titles(col_template='Gender: {col_name}')\n",
    "\n",
    "# Customize grid and appearance\n",
    "for ax in g.axes.flat:\n",
    "    ax.grid(True, which='both', linestyle=\"--\", color=\"gray\", alpha=0.7)\n",
    "    ax.set_facecolor('#f9f9f9')\n",
    "    for spine in ax.spines.values():\n",
    "        spine.set_edgecolor(\"black\")\n",
    "        spine.set_linewidth(1.5)\n",
    "    ax.spines[\"top\"].set_visible(False)\n",
    "    ax.spines[\"right\"].set_visible(False)\n",
    "\n",
    "g.figure.suptitle(\"Income vs Age by Gender\", fontsize=16)\n",
    "g.figure.tight_layout(rect=[0, 0, 1, 0.95])\n",
    "plt.show()\n",
    "\n",
    "# Boxplot for Credit Rating by Gender or Student\n",
    "plt.figure(figsize=(10, 6))\n",
    "sns.boxplot(x=credit_train['Gender'], y=credit_train['Rating'], palette=custom_palette)\n",
    "plt.title('Distribution of Credit Ratings by Gender', fontsize=16)\n",
    "plt.xlabel('Gender')\n",
    "plt.ylabel('Credit Rating')\n",
    "plt.grid(True, which='both', linestyle=\"--\", color=\"lightgrey\", alpha=0.7)\n",
    "plt.show()\n",
    "\n",
    "# Boxplot for Credit Rating by Student Status\n",
    "plt.figure(figsize=(10, 6))\n",
    "sns.boxplot(x=credit_train['Student'], y=credit_train['Rating'], palette=custom_palette)\n",
    "plt.title('Distribution of Credit Ratings by Student Status', fontsize=16)\n",
    "plt.xlabel('Student')\n",
    "plt.ylabel('Credit Rating')\n",
    "plt.grid(True, which='both', linestyle=\"--\", color=\"lightgrey\", alpha=0.7)\n",
    "plt.show()"
   ]
  },
  {
   "cell_type": "markdown",
   "metadata": {},
   "source": [
    "### Models"
   ]
  },
  {
   "cell_type": "code",
   "execution_count": 20,
   "metadata": {},
   "outputs": [],
   "source": [
    "# process data for ML\n",
    "\n",
    "# create X and y for train\n",
    "X_train = credit_train.drop(\"Rating\", axis=1)\n",
    "y_train = credit_train[\"Rating\"]\n",
    "\n",
    "# create X and y for test\n",
    "X_test = credit_test.drop(\"Rating\", axis=1)\n",
    "y_test = credit_test[\"Rating\"]\n"
   ]
  },
  {
   "cell_type": "code",
   "execution_count": 21,
   "metadata": {},
   "outputs": [],
   "source": [
    "# train models\n",
    "\n",
    "# Define the numerical and categorical features as per your dataset\n",
    "numeric_columns = ['Age', 'Income', 'Education']\n",
    "categorical_columns = ['Gender', 'Student', 'Married', 'Ethnicity']\n",
    "\n",
    "# Pipeline to preprocess numeric data (using median for missing values)\n",
    "numeric_pipeline = Pipeline(steps=[\n",
    "    ('imputer', SimpleImputer(strategy='median'))\n",
    "])\n",
    "\n",
    "# Pipeline to preprocess categorical data (using mode and one-hot encoding)\n",
    "categorical_pipeline = Pipeline(steps=[\n",
    "    ('imputer', SimpleImputer(strategy='most_frequent')),\n",
    "    ('encoder', OneHotEncoder(handle_unknown='ignore', drop='first'))\n",
    "])\n",
    "\n",
    "# Combine preprocessing steps for both numeric and categorical data\n",
    "preprocessor = ColumnTransformer(transformers=[\n",
    "    ('num', numeric_pipeline, numeric_columns),\n",
    "    ('cat', categorical_pipeline, categorical_columns)\n",
    "])\n",
    "\n",
    "# Build the final pipeline with preprocessing and KNeighborsRegressor\n",
    "knn_pipeline = Pipeline(steps=[\n",
    "    ('preprocessing', preprocessor),\n",
    "    ('model', KNeighborsRegressor())\n",
    "])\n",
    "\n"
   ]
  },
  {
   "cell_type": "code",
   "execution_count": 22,
   "metadata": {},
   "outputs": [
    {
     "name": "stdout",
     "output_type": "stream",
     "text": [
      "Best k: 19\n"
     ]
    }
   ],
   "source": [
    "# Fit the preprocessor on training data and transform it\n",
    "preprocessor.fit(X_train)\n",
    "X_train_preprocessed = pd.DataFrame(\n",
    "    preprocessor.transform(X_train),\n",
    "    columns=preprocessor.get_feature_names_out()\n",
    ")\n",
    "\n",
    "# Preprocess the test set using the fitted preprocessor\n",
    "X_test_preprocessed = pd.DataFrame(\n",
    "    preprocessor.transform(X_test),\n",
    "    columns=preprocessor.get_feature_names_out()\n",
    ")\n",
    "\n",
    "# Display first few rows of preprocessed test set\n",
    "X_test_preprocessed.head()\n",
    "\n",
    "# Tuning the model by finding the best k (number of neighbors)\n",
    "k_values = np.arange(1, 50)\n",
    "best_k_rmse = []\n",
    "\n",
    "for k in k_values:\n",
    "    knn = KNeighborsRegressor(n_neighbors=k)\n",
    "    scores = cross_val_score(knn, X_train_preprocessed, y_train, cv=5, scoring='neg_mean_squared_error')\n",
    "    rmse_scores = np.sqrt(-scores)\n",
    "    best_k_rmse.append(rmse_scores.mean())\n",
    "\n",
    "# Get the k with the lowest RMSE\n",
    "best_k = k_values[np.argmin(best_k_rmse)]\n",
    "print(f\"Best k: {best_k}\")\n",
    "\n",
    "\n"
   ]
  },
  {
   "cell_type": "code",
   "execution_count": 23,
   "metadata": {},
   "outputs": [
    {
     "name": "stdout",
     "output_type": "stream",
     "text": [
      "Test RMSE: 105.67237377851484\n"
     ]
    },
    {
     "name": "stderr",
     "output_type": "stream",
     "text": [
      "/Library/Frameworks/Python.framework/Versions/3.12/lib/python3.12/site-packages/sklearn/metrics/_regression.py:492: FutureWarning: 'squared' is deprecated in version 1.4 and will be removed in 1.6. To calculate the root mean squared error, use the function'root_mean_squared_error'.\n",
      "  warnings.warn(\n"
     ]
    }
   ],
   "source": [
    "# Initialize and train the final model with the best k value\n",
    "final_model_pipeline = Pipeline(steps=[\n",
    "    ('preprocessing', preprocessor),\n",
    "    ('model', KNeighborsRegressor(n_neighbors=best_k))\n",
    "])\n",
    "\n",
    "# Fit the model to the training data\n",
    "final_model_pipeline.fit(X_train, y_train)\n",
    "\n",
    "# Predict using the test data\n",
    "predictions = final_model_pipeline.predict(X_test)\n",
    "\n",
    "# Evaluate the model using Root Mean Squared Error (RMSE)\n",
    "test_rmse = mean_squared_error(y_test, predictions, squared=False)\n",
    "print(f\"Test RMSE: {test_rmse}\")"
   ]
  },
  {
   "cell_type": "markdown",
   "metadata": {},
   "source": []
  },
  {
   "cell_type": "markdown",
   "metadata": {},
   "source": [
    "## Results"
   ]
  },
  {
   "cell_type": "code",
   "execution_count": 24,
   "metadata": {},
   "outputs": [
    {
     "name": "stdout",
     "output_type": "stream",
     "text": [
      "Test RMSE: 105.67237377851484\n",
      "Test MAE: 88.33963815789474\n",
      "R-squared: 0.5495112808660372\n"
     ]
    }
   ],
   "source": [
    "# report model metrics\n",
    "# Test the final model on unseen test data\n",
    "pred_test = final_model_pipeline.predict(X_test)\n",
    "\n",
    "# Calculate RMSE on test data\n",
    "test_rmse = np.sqrt(mean_squared_error(y_test, pred_test))\n",
    "print(f\"Test RMSE: {test_rmse}\")\n",
    "\n",
    "# Calculate MAE on test data\n",
    "mae = mean_absolute_error(y_test, pred_test)\n",
    "print(f\"Test MAE: {mae}\")\n",
    "\n",
    "# Calculate R-squared score\n",
    "r2 = r2_score(y_test, pred_test)\n",
    "print(f\"R-squared: {r2}\")\n",
    "\n"
   ]
  },
  {
   "cell_type": "code",
   "execution_count": 25,
   "metadata": {},
   "outputs": [
    {
     "data": {
      "text/plain": [
       "['credit-ratings.joblib']"
      ]
     },
     "execution_count": 25,
     "metadata": {},
     "output_type": "execute_result"
    }
   ],
   "source": [
    "# report model metrics\n",
    "from joblib import dump\n",
    "dump(final_model_pipeline, \"credit-ratings.joblib\")"
   ]
  },
  {
   "cell_type": "markdown",
   "metadata": {},
   "source": [
    "The final model was tested on unseen data, and the following metrics were obtained:\n",
    "\n",
    "Root Mean Squared Error: The model achieved an RMSE of 105.67. This value represents the average difference between the actual and predicted credit ratings in the test set, giving an indication of the prediction error magnitude. A lower RMSE is generally preferred, as it suggests more accurate predictions.\n",
    "\n",
    "Mean Absolute Error: The MAE is 88.34, meaning that, on average, the predicted credit scores differ from the actual scores by around 88 points. This metric offers a straightforward interpretation of prediction error across all data points.\n",
    "\n",
    "R-squared: The R² score is 0.55, indicating that the model explains 54.95% of the variance in the test data. While this is a moderate value, it implies that the model captures just over half of the variability in the credit scores based on the selected features."
   ]
  },
  {
   "cell_type": "markdown",
   "metadata": {},
   "source": [
    "## Discussion"
   ]
  },
  {
   "cell_type": "markdown",
   "metadata": {},
   "source": [
    "Discussion\n",
    "The results indicate that the credit rating model, while functional, has room for improvement. With an RMSE of 105.67, the model's predictions are somewhat off from the actual values, suggesting that the features used (age, income, education, etc.) do not fully explain the variation in credit scores. The MAE of 88.34 supports this, highlighting a significant average error in the predicted scores.\n",
    "\n",
    "The R² value of 0.55 indicates that just over half of the variance in credit scores is explained by the model. While this shows that the model is capturing some meaningful relationships between the features and the target, there is still 45% of the variance unaccounted for, which suggests that additional or more informative features (e.g., detailed credit history, financial behavior patterns) may be needed to improve the model's accuracy.\n",
    "\n",
    "Limitations:\n",
    "One potential limitation of the model is that the features chosen might not fully capture all relevant factors affecting credit scores. While age, income, and education are important, incorporating more nuanced financial metrics, such as credit utilization ratio, debt-to-income ratio, or payment history, might yield more accurate predictions.\n",
    "\n",
    "Potential Improvements:\n",
    "To improve the model, several strategies could be explored:\n",
    "\n",
    "Feature Engineering: Adding new features that directly impact creditworthiness, such as the number of open credit lines or recent credit inquiries, could improve the model's predictive power.\n",
    "Model Selection: Trying different regression models, such as Random Forest Regressor or Gradient Boosting, could yield better results by capturing non-linear relationships between features and the target.\n",
    "Hyperparameter Tuning: Further tuning the model’s parameters (e.g., experimenting with the number of neighbors in KNeighborsRegressor or adjusting regularization in linear models) could reduce prediction error and improve the overall performance.\n"
   ]
  },
  {
   "cell_type": "markdown",
   "metadata": {},
   "source": [
    "### Conclusion"
   ]
  },
  {
   "cell_type": "markdown",
   "metadata": {},
   "source": [
    "In this lab, we developed a credit rating prediction model using demographic and financial features such as age, income, and education. The model was evaluated on a test set, achieving a Root Mean Squared Error (RMSE) of 105.67, a Mean Absolute Error (MAE) of 88.34, and an R-squared (R²) score of 0.55. These results indicate that while the model captures some meaningful relationships between the features and credit scores, there is still significant room for improvement.\n",
    "\n",
    "The R² score of 0.55 suggests that the model explains approximately 55% of the variance in credit scores, leaving 45% unexplained. This highlights the need for additional features, such as more detailed financial history or behavioral metrics, to further enhance prediction accuracy. Moreover, with an average error of 88.34 credit points, the model's predictions, while reasonable, may not yet be reliable enough for high-stakes decision-making.\n",
    "\n",
    "Moving forward, the model could benefit from further feature engineering, incorporating additional variables like credit history or debt-to-income ratios. Additionally, experimenting with more advanced machine learning algorithms, such as Random Forests or Gradient Boosting, could help capture non-linear relationships between features and improve overall performance.\n",
    "\n",
    "In conclusion, while the current model provides a good starting point for predicting credit ratings, refining the feature set and exploring more complex algorithms will be essential to achieving the level of accuracy required for practical applications. With these improvements, the model could become a valuable tool in assessing creditworthiness, potentially offering banks and financial institutions a cost-effective alternative to traditional credit assessments."
   ]
  }
 ],
 "metadata": {
  "kernelspec": {
   "display_name": "Python 3",
   "language": "python",
   "name": "python3"
  },
  "language_info": {
   "codemirror_mode": {
    "name": "ipython",
    "version": 3
   },
   "file_extension": ".py",
   "mimetype": "text/x-python",
   "name": "python",
   "nbconvert_exporter": "python",
   "pygments_lexer": "ipython3",
   "version": "3.12.5"
  }
 },
 "nbformat": 4,
 "nbformat_minor": 2
}
